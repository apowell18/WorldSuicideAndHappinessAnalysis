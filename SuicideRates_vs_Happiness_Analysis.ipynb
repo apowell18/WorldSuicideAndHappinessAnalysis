{
  "nbformat": 4,
  "nbformat_minor": 0,
  "metadata": {
    "colab": {
      "name": "SuicideRates_vs_Happiness_Analysis.ipynb",
      "provenance": [],
      "collapsed_sections": [],
      "toc_visible": true,
      "authorship_tag": "ABX9TyNF/se81CkqJ8waxK/w2dgz",
      "include_colab_link": true
    },
    "kernelspec": {
      "name": "python3",
      "display_name": "Python 3"
    },
    "language_info": {
      "name": "python"
    }
  },
  "cells": [
    {
      "cell_type": "markdown",
      "metadata": {
        "id": "view-in-github",
        "colab_type": "text"
      },
      "source": [
        "<a href=\"https://colab.research.google.com/github/apowell18/WorldSuicideAndHappinessAnalysis/blob/main/SuicideRates_vs_Happiness_Analysis.ipynb\" target=\"_parent\"><img src=\"https://colab.research.google.com/assets/colab-badge.svg\" alt=\"Open In Colab\"/></a>"
      ]
    },
    {
      "cell_type": "markdown",
      "source": [
        "Analyzing suicide rates worldwide. I will also compare the suicidal rates with the world happiness ratings. This is for educational and learning purposes. "
      ],
      "metadata": {
        "id": "kc46q4O5JkjK"
      }
    },
    {
      "cell_type": "markdown",
      "source": [
        "# Preprocessing the Data"
      ],
      "metadata": {
        "id": "0ao-1lv7Sdks"
      }
    },
    {
      "cell_type": "code",
      "execution_count": null,
      "metadata": {
        "id": "0HvaGMdPIB_-"
      },
      "outputs": [],
      "source": [
        "#import modules\n",
        "import pandas as pd\n",
        "import numpy as np\n",
        "import seaborn as sns\n",
        "\n",
        "#Connect URL\n",
        "suicidal_url = \"https://worldpopulationreview.com/country-rankings/suicide-rate-by-country\"\n",
        "happiness_url = \"https://worldpopulationreview.com/country-rankings/happiest-countries-in-the-world\""
      ]
    },
    {
      "cell_type": "code",
      "source": [
        "#import URLs\n",
        "sDf = pd.read_html(suicidal_url, header = 0) #suicidal dataframe\n",
        "hDf = pd.read_html(happiness_url, header= 0) #happiness dataframe"
      ],
      "metadata": {
        "id": "2fMiN6I6J6yD"
      },
      "execution_count": 23,
      "outputs": []
    },
    {
      "cell_type": "code",
      "source": [
        "#checking the data frame\n",
        "sDf"
      ],
      "metadata": {
        "id": "_jwxmSW1N2VS",
        "colab": {
          "base_uri": "https://localhost:8080/"
        },
        "outputId": "78e1653d-8782-415e-ec21-f0ef830ba8ce"
      },
      "execution_count": 20,
      "outputs": [
        {
          "output_type": "execute_result",
          "data": {
            "text/plain": [
              "[                              Country  ...  2021 Population\n",
              " 0                             Lesotho  ...          2159079\n",
              " 1                              Guyana  ...           790326\n",
              " 2                            Eswatini  ...          1172362\n",
              " 3                         South Korea  ...         51305186\n",
              " 4                            Kiribati  ...           121392\n",
              " ..                                ...  ...              ...\n",
              " 174             Sao Tome And Principe  ...           223368\n",
              " 175  Saint Vincent And the Grenadines  ...           111263\n",
              " 176                           Grenada  ...           113021\n",
              " 177                          Barbados  ...           287711\n",
              " 178               Antigua And Barbuda  ...            98731\n",
              " \n",
              " [179 rows x 5 columns]]"
            ]
          },
          "metadata": {},
          "execution_count": 20
        }
      ]
    },
    {
      "cell_type": "code",
      "source": [
        "#establish the dataset \n",
        "sData = sDf[0]\n",
        "sData"
      ],
      "metadata": {
        "colab": {
          "base_uri": "https://localhost:8080/",
          "height": 424
        },
        "id": "DHSWAlpePxAR",
        "outputId": "53c9ba09-4089-48b2-bd19-b62ed983723b"
      },
      "execution_count": 21,
      "outputs": [
        {
          "output_type": "execute_result",
          "data": {
            "text/html": [
              "\n",
              "  <div id=\"df-2c470bc1-85fb-4d1c-9f21-8cd1b1d871e8\">\n",
              "    <div class=\"colab-df-container\">\n",
              "      <div>\n",
              "<style scoped>\n",
              "    .dataframe tbody tr th:only-of-type {\n",
              "        vertical-align: middle;\n",
              "    }\n",
              "\n",
              "    .dataframe tbody tr th {\n",
              "        vertical-align: top;\n",
              "    }\n",
              "\n",
              "    .dataframe thead th {\n",
              "        text-align: right;\n",
              "    }\n",
              "</style>\n",
              "<table border=\"1\" class=\"dataframe\">\n",
              "  <thead>\n",
              "    <tr style=\"text-align: right;\">\n",
              "      <th></th>\n",
              "      <th>Country</th>\n",
              "      <th>Total Suicide Rate</th>\n",
              "      <th>Male Rate</th>\n",
              "      <th>Female Rate</th>\n",
              "      <th>2021 Population</th>\n",
              "    </tr>\n",
              "  </thead>\n",
              "  <tbody>\n",
              "    <tr>\n",
              "      <th>0</th>\n",
              "      <td>Lesotho</td>\n",
              "      <td>72.4</td>\n",
              "      <td>116.0</td>\n",
              "      <td>30.1</td>\n",
              "      <td>2159079</td>\n",
              "    </tr>\n",
              "    <tr>\n",
              "      <th>1</th>\n",
              "      <td>Guyana</td>\n",
              "      <td>40.3</td>\n",
              "      <td>63.0</td>\n",
              "      <td>17.4</td>\n",
              "      <td>790326</td>\n",
              "    </tr>\n",
              "    <tr>\n",
              "      <th>2</th>\n",
              "      <td>Eswatini</td>\n",
              "      <td>29.4</td>\n",
              "      <td>55.1</td>\n",
              "      <td>4.7</td>\n",
              "      <td>1172362</td>\n",
              "    </tr>\n",
              "    <tr>\n",
              "      <th>3</th>\n",
              "      <td>South Korea</td>\n",
              "      <td>28.6</td>\n",
              "      <td>40.2</td>\n",
              "      <td>16.9</td>\n",
              "      <td>51305186</td>\n",
              "    </tr>\n",
              "    <tr>\n",
              "      <th>4</th>\n",
              "      <td>Kiribati</td>\n",
              "      <td>28.3</td>\n",
              "      <td>48.6</td>\n",
              "      <td>8.7</td>\n",
              "      <td>121392</td>\n",
              "    </tr>\n",
              "    <tr>\n",
              "      <th>...</th>\n",
              "      <td>...</td>\n",
              "      <td>...</td>\n",
              "      <td>...</td>\n",
              "      <td>...</td>\n",
              "      <td>...</td>\n",
              "    </tr>\n",
              "    <tr>\n",
              "      <th>174</th>\n",
              "      <td>Sao Tome And Principe</td>\n",
              "      <td>1.5</td>\n",
              "      <td>2.2</td>\n",
              "      <td>0.8</td>\n",
              "      <td>223368</td>\n",
              "    </tr>\n",
              "    <tr>\n",
              "      <th>175</th>\n",
              "      <td>Saint Vincent And the Grenadines</td>\n",
              "      <td>1.0</td>\n",
              "      <td>1.3</td>\n",
              "      <td>0.6</td>\n",
              "      <td>111263</td>\n",
              "    </tr>\n",
              "    <tr>\n",
              "      <th>176</th>\n",
              "      <td>Grenada</td>\n",
              "      <td>0.7</td>\n",
              "      <td>0.6</td>\n",
              "      <td>0.7</td>\n",
              "      <td>113021</td>\n",
              "    </tr>\n",
              "    <tr>\n",
              "      <th>177</th>\n",
              "      <td>Barbados</td>\n",
              "      <td>0.6</td>\n",
              "      <td>0.9</td>\n",
              "      <td>0.3</td>\n",
              "      <td>287711</td>\n",
              "    </tr>\n",
              "    <tr>\n",
              "      <th>178</th>\n",
              "      <td>Antigua And Barbuda</td>\n",
              "      <td>0.4</td>\n",
              "      <td>0.0</td>\n",
              "      <td>0.8</td>\n",
              "      <td>98731</td>\n",
              "    </tr>\n",
              "  </tbody>\n",
              "</table>\n",
              "<p>179 rows × 5 columns</p>\n",
              "</div>\n",
              "      <button class=\"colab-df-convert\" onclick=\"convertToInteractive('df-2c470bc1-85fb-4d1c-9f21-8cd1b1d871e8')\"\n",
              "              title=\"Convert this dataframe to an interactive table.\"\n",
              "              style=\"display:none;\">\n",
              "        \n",
              "  <svg xmlns=\"http://www.w3.org/2000/svg\" height=\"24px\"viewBox=\"0 0 24 24\"\n",
              "       width=\"24px\">\n",
              "    <path d=\"M0 0h24v24H0V0z\" fill=\"none\"/>\n",
              "    <path d=\"M18.56 5.44l.94 2.06.94-2.06 2.06-.94-2.06-.94-.94-2.06-.94 2.06-2.06.94zm-11 1L8.5 8.5l.94-2.06 2.06-.94-2.06-.94L8.5 2.5l-.94 2.06-2.06.94zm10 10l.94 2.06.94-2.06 2.06-.94-2.06-.94-.94-2.06-.94 2.06-2.06.94z\"/><path d=\"M17.41 7.96l-1.37-1.37c-.4-.4-.92-.59-1.43-.59-.52 0-1.04.2-1.43.59L10.3 9.45l-7.72 7.72c-.78.78-.78 2.05 0 2.83L4 21.41c.39.39.9.59 1.41.59.51 0 1.02-.2 1.41-.59l7.78-7.78 2.81-2.81c.8-.78.8-2.07 0-2.86zM5.41 20L4 18.59l7.72-7.72 1.47 1.35L5.41 20z\"/>\n",
              "  </svg>\n",
              "      </button>\n",
              "      \n",
              "  <style>\n",
              "    .colab-df-container {\n",
              "      display:flex;\n",
              "      flex-wrap:wrap;\n",
              "      gap: 12px;\n",
              "    }\n",
              "\n",
              "    .colab-df-convert {\n",
              "      background-color: #E8F0FE;\n",
              "      border: none;\n",
              "      border-radius: 50%;\n",
              "      cursor: pointer;\n",
              "      display: none;\n",
              "      fill: #1967D2;\n",
              "      height: 32px;\n",
              "      padding: 0 0 0 0;\n",
              "      width: 32px;\n",
              "    }\n",
              "\n",
              "    .colab-df-convert:hover {\n",
              "      background-color: #E2EBFA;\n",
              "      box-shadow: 0px 1px 2px rgba(60, 64, 67, 0.3), 0px 1px 3px 1px rgba(60, 64, 67, 0.15);\n",
              "      fill: #174EA6;\n",
              "    }\n",
              "\n",
              "    [theme=dark] .colab-df-convert {\n",
              "      background-color: #3B4455;\n",
              "      fill: #D2E3FC;\n",
              "    }\n",
              "\n",
              "    [theme=dark] .colab-df-convert:hover {\n",
              "      background-color: #434B5C;\n",
              "      box-shadow: 0px 1px 3px 1px rgba(0, 0, 0, 0.15);\n",
              "      filter: drop-shadow(0px 1px 2px rgba(0, 0, 0, 0.3));\n",
              "      fill: #FFFFFF;\n",
              "    }\n",
              "  </style>\n",
              "\n",
              "      <script>\n",
              "        const buttonEl =\n",
              "          document.querySelector('#df-2c470bc1-85fb-4d1c-9f21-8cd1b1d871e8 button.colab-df-convert');\n",
              "        buttonEl.style.display =\n",
              "          google.colab.kernel.accessAllowed ? 'block' : 'none';\n",
              "\n",
              "        async function convertToInteractive(key) {\n",
              "          const element = document.querySelector('#df-2c470bc1-85fb-4d1c-9f21-8cd1b1d871e8');\n",
              "          const dataTable =\n",
              "            await google.colab.kernel.invokeFunction('convertToInteractive',\n",
              "                                                     [key], {});\n",
              "          if (!dataTable) return;\n",
              "\n",
              "          const docLinkHtml = 'Like what you see? Visit the ' +\n",
              "            '<a target=\"_blank\" href=https://colab.research.google.com/notebooks/data_table.ipynb>data table notebook</a>'\n",
              "            + ' to learn more about interactive tables.';\n",
              "          element.innerHTML = '';\n",
              "          dataTable['output_type'] = 'display_data';\n",
              "          await google.colab.output.renderOutput(dataTable, element);\n",
              "          const docLink = document.createElement('div');\n",
              "          docLink.innerHTML = docLinkHtml;\n",
              "          element.appendChild(docLink);\n",
              "        }\n",
              "      </script>\n",
              "    </div>\n",
              "  </div>\n",
              "  "
            ],
            "text/plain": [
              "                              Country  ...  2021 Population\n",
              "0                             Lesotho  ...          2159079\n",
              "1                              Guyana  ...           790326\n",
              "2                            Eswatini  ...          1172362\n",
              "3                         South Korea  ...         51305186\n",
              "4                            Kiribati  ...           121392\n",
              "..                                ...  ...              ...\n",
              "174             Sao Tome And Principe  ...           223368\n",
              "175  Saint Vincent And the Grenadines  ...           111263\n",
              "176                           Grenada  ...           113021\n",
              "177                          Barbados  ...           287711\n",
              "178               Antigua And Barbuda  ...            98731\n",
              "\n",
              "[179 rows x 5 columns]"
            ]
          },
          "metadata": {},
          "execution_count": 21
        }
      ]
    },
    {
      "cell_type": "code",
      "source": [
        "#checking the data frame\n",
        "hDf"
      ],
      "metadata": {
        "id": "ohMXWAaxN3N_",
        "colab": {
          "base_uri": "https://localhost:8080/"
        },
        "outputId": "4be9464f-d973-49a7-e1fb-3fffa3414b89"
      },
      "execution_count": 24,
      "outputs": [
        {
          "output_type": "execute_result",
          "data": {
            "text/plain": [
              "[     Rank      Country  Happiness 2021  Happiness 2020  2021 Population\n",
              " 0       1      Finland           7.842           7.809          5548360\n",
              " 1       2      Denmark           7.620           7.646          5813298\n",
              " 2       3  Switzerland           7.571           7.560          8715494\n",
              " 3       4      Iceland           7.554           7.504           343353\n",
              " 4       5  Netherlands           7.464           7.449         17173099\n",
              " ..    ...          ...             ...             ...              ...\n",
              " 141   142      Lesotho           3.512           3.653          2159079\n",
              " 142   143     Botswana           3.467           3.479          2397241\n",
              " 143   144       Rwanda           3.415           3.312         13276513\n",
              " 144   145     Zimbabwe           3.145           3.299         15092171\n",
              " 145   146  Afghanistan           2.523           2.567         39835428\n",
              " \n",
              " [146 rows x 5 columns]]"
            ]
          },
          "metadata": {},
          "execution_count": 24
        }
      ]
    },
    {
      "cell_type": "code",
      "source": [
        "#establish dataset\n",
        "hData = hDf[0]\n",
        "hData"
      ],
      "metadata": {
        "colab": {
          "base_uri": "https://localhost:8080/",
          "height": 424
        },
        "id": "YXmkyZCvQERW",
        "outputId": "60be47d2-c9fd-4fea-afe0-8f59a698110c"
      },
      "execution_count": 25,
      "outputs": [
        {
          "output_type": "execute_result",
          "data": {
            "text/html": [
              "\n",
              "  <div id=\"df-e8835f7b-08a1-407a-b39b-a4a9c22f407b\">\n",
              "    <div class=\"colab-df-container\">\n",
              "      <div>\n",
              "<style scoped>\n",
              "    .dataframe tbody tr th:only-of-type {\n",
              "        vertical-align: middle;\n",
              "    }\n",
              "\n",
              "    .dataframe tbody tr th {\n",
              "        vertical-align: top;\n",
              "    }\n",
              "\n",
              "    .dataframe thead th {\n",
              "        text-align: right;\n",
              "    }\n",
              "</style>\n",
              "<table border=\"1\" class=\"dataframe\">\n",
              "  <thead>\n",
              "    <tr style=\"text-align: right;\">\n",
              "      <th></th>\n",
              "      <th>Rank</th>\n",
              "      <th>Country</th>\n",
              "      <th>Happiness 2021</th>\n",
              "      <th>Happiness 2020</th>\n",
              "      <th>2021 Population</th>\n",
              "    </tr>\n",
              "  </thead>\n",
              "  <tbody>\n",
              "    <tr>\n",
              "      <th>0</th>\n",
              "      <td>1</td>\n",
              "      <td>Finland</td>\n",
              "      <td>7.842</td>\n",
              "      <td>7.809</td>\n",
              "      <td>5548360</td>\n",
              "    </tr>\n",
              "    <tr>\n",
              "      <th>1</th>\n",
              "      <td>2</td>\n",
              "      <td>Denmark</td>\n",
              "      <td>7.620</td>\n",
              "      <td>7.646</td>\n",
              "      <td>5813298</td>\n",
              "    </tr>\n",
              "    <tr>\n",
              "      <th>2</th>\n",
              "      <td>3</td>\n",
              "      <td>Switzerland</td>\n",
              "      <td>7.571</td>\n",
              "      <td>7.560</td>\n",
              "      <td>8715494</td>\n",
              "    </tr>\n",
              "    <tr>\n",
              "      <th>3</th>\n",
              "      <td>4</td>\n",
              "      <td>Iceland</td>\n",
              "      <td>7.554</td>\n",
              "      <td>7.504</td>\n",
              "      <td>343353</td>\n",
              "    </tr>\n",
              "    <tr>\n",
              "      <th>4</th>\n",
              "      <td>5</td>\n",
              "      <td>Netherlands</td>\n",
              "      <td>7.464</td>\n",
              "      <td>7.449</td>\n",
              "      <td>17173099</td>\n",
              "    </tr>\n",
              "    <tr>\n",
              "      <th>...</th>\n",
              "      <td>...</td>\n",
              "      <td>...</td>\n",
              "      <td>...</td>\n",
              "      <td>...</td>\n",
              "      <td>...</td>\n",
              "    </tr>\n",
              "    <tr>\n",
              "      <th>141</th>\n",
              "      <td>142</td>\n",
              "      <td>Lesotho</td>\n",
              "      <td>3.512</td>\n",
              "      <td>3.653</td>\n",
              "      <td>2159079</td>\n",
              "    </tr>\n",
              "    <tr>\n",
              "      <th>142</th>\n",
              "      <td>143</td>\n",
              "      <td>Botswana</td>\n",
              "      <td>3.467</td>\n",
              "      <td>3.479</td>\n",
              "      <td>2397241</td>\n",
              "    </tr>\n",
              "    <tr>\n",
              "      <th>143</th>\n",
              "      <td>144</td>\n",
              "      <td>Rwanda</td>\n",
              "      <td>3.415</td>\n",
              "      <td>3.312</td>\n",
              "      <td>13276513</td>\n",
              "    </tr>\n",
              "    <tr>\n",
              "      <th>144</th>\n",
              "      <td>145</td>\n",
              "      <td>Zimbabwe</td>\n",
              "      <td>3.145</td>\n",
              "      <td>3.299</td>\n",
              "      <td>15092171</td>\n",
              "    </tr>\n",
              "    <tr>\n",
              "      <th>145</th>\n",
              "      <td>146</td>\n",
              "      <td>Afghanistan</td>\n",
              "      <td>2.523</td>\n",
              "      <td>2.567</td>\n",
              "      <td>39835428</td>\n",
              "    </tr>\n",
              "  </tbody>\n",
              "</table>\n",
              "<p>146 rows × 5 columns</p>\n",
              "</div>\n",
              "      <button class=\"colab-df-convert\" onclick=\"convertToInteractive('df-e8835f7b-08a1-407a-b39b-a4a9c22f407b')\"\n",
              "              title=\"Convert this dataframe to an interactive table.\"\n",
              "              style=\"display:none;\">\n",
              "        \n",
              "  <svg xmlns=\"http://www.w3.org/2000/svg\" height=\"24px\"viewBox=\"0 0 24 24\"\n",
              "       width=\"24px\">\n",
              "    <path d=\"M0 0h24v24H0V0z\" fill=\"none\"/>\n",
              "    <path d=\"M18.56 5.44l.94 2.06.94-2.06 2.06-.94-2.06-.94-.94-2.06-.94 2.06-2.06.94zm-11 1L8.5 8.5l.94-2.06 2.06-.94-2.06-.94L8.5 2.5l-.94 2.06-2.06.94zm10 10l.94 2.06.94-2.06 2.06-.94-2.06-.94-.94-2.06-.94 2.06-2.06.94z\"/><path d=\"M17.41 7.96l-1.37-1.37c-.4-.4-.92-.59-1.43-.59-.52 0-1.04.2-1.43.59L10.3 9.45l-7.72 7.72c-.78.78-.78 2.05 0 2.83L4 21.41c.39.39.9.59 1.41.59.51 0 1.02-.2 1.41-.59l7.78-7.78 2.81-2.81c.8-.78.8-2.07 0-2.86zM5.41 20L4 18.59l7.72-7.72 1.47 1.35L5.41 20z\"/>\n",
              "  </svg>\n",
              "      </button>\n",
              "      \n",
              "  <style>\n",
              "    .colab-df-container {\n",
              "      display:flex;\n",
              "      flex-wrap:wrap;\n",
              "      gap: 12px;\n",
              "    }\n",
              "\n",
              "    .colab-df-convert {\n",
              "      background-color: #E8F0FE;\n",
              "      border: none;\n",
              "      border-radius: 50%;\n",
              "      cursor: pointer;\n",
              "      display: none;\n",
              "      fill: #1967D2;\n",
              "      height: 32px;\n",
              "      padding: 0 0 0 0;\n",
              "      width: 32px;\n",
              "    }\n",
              "\n",
              "    .colab-df-convert:hover {\n",
              "      background-color: #E2EBFA;\n",
              "      box-shadow: 0px 1px 2px rgba(60, 64, 67, 0.3), 0px 1px 3px 1px rgba(60, 64, 67, 0.15);\n",
              "      fill: #174EA6;\n",
              "    }\n",
              "\n",
              "    [theme=dark] .colab-df-convert {\n",
              "      background-color: #3B4455;\n",
              "      fill: #D2E3FC;\n",
              "    }\n",
              "\n",
              "    [theme=dark] .colab-df-convert:hover {\n",
              "      background-color: #434B5C;\n",
              "      box-shadow: 0px 1px 3px 1px rgba(0, 0, 0, 0.15);\n",
              "      filter: drop-shadow(0px 1px 2px rgba(0, 0, 0, 0.3));\n",
              "      fill: #FFFFFF;\n",
              "    }\n",
              "  </style>\n",
              "\n",
              "      <script>\n",
              "        const buttonEl =\n",
              "          document.querySelector('#df-e8835f7b-08a1-407a-b39b-a4a9c22f407b button.colab-df-convert');\n",
              "        buttonEl.style.display =\n",
              "          google.colab.kernel.accessAllowed ? 'block' : 'none';\n",
              "\n",
              "        async function convertToInteractive(key) {\n",
              "          const element = document.querySelector('#df-e8835f7b-08a1-407a-b39b-a4a9c22f407b');\n",
              "          const dataTable =\n",
              "            await google.colab.kernel.invokeFunction('convertToInteractive',\n",
              "                                                     [key], {});\n",
              "          if (!dataTable) return;\n",
              "\n",
              "          const docLinkHtml = 'Like what you see? Visit the ' +\n",
              "            '<a target=\"_blank\" href=https://colab.research.google.com/notebooks/data_table.ipynb>data table notebook</a>'\n",
              "            + ' to learn more about interactive tables.';\n",
              "          element.innerHTML = '';\n",
              "          dataTable['output_type'] = 'display_data';\n",
              "          await google.colab.output.renderOutput(dataTable, element);\n",
              "          const docLink = document.createElement('div');\n",
              "          docLink.innerHTML = docLinkHtml;\n",
              "          element.appendChild(docLink);\n",
              "        }\n",
              "      </script>\n",
              "    </div>\n",
              "  </div>\n",
              "  "
            ],
            "text/plain": [
              "     Rank      Country  Happiness 2021  Happiness 2020  2021 Population\n",
              "0       1      Finland           7.842           7.809          5548360\n",
              "1       2      Denmark           7.620           7.646          5813298\n",
              "2       3  Switzerland           7.571           7.560          8715494\n",
              "3       4      Iceland           7.554           7.504           343353\n",
              "4       5  Netherlands           7.464           7.449         17173099\n",
              "..    ...          ...             ...             ...              ...\n",
              "141   142      Lesotho           3.512           3.653          2159079\n",
              "142   143     Botswana           3.467           3.479          2397241\n",
              "143   144       Rwanda           3.415           3.312         13276513\n",
              "144   145     Zimbabwe           3.145           3.299         15092171\n",
              "145   146  Afghanistan           2.523           2.567         39835428\n",
              "\n",
              "[146 rows x 5 columns]"
            ]
          },
          "metadata": {},
          "execution_count": 25
        }
      ]
    },
    {
      "cell_type": "markdown",
      "source": [
        "# Data Cleaning\n"
      ],
      "metadata": {
        "id": "LaNzmJcbQpRp"
      }
    },
    {
      "cell_type": "code",
      "source": [
        "#Remove any nulls or N/As in datasets\n",
        "sData = sData.dropna()\n",
        "hData = hData.dropna()\n",
        "\n",
        "#seperate the male and female suicuide rates and reserve for later usage\n",
        "sDataNoGender = sData.drop(columns=[\"Male Rate\", \"Female Rate\"])\n",
        "\n",
        "#check datasets\n",
        "print(sDataNoGender)\n",
        "print(hData)\n",
        "print(sData)\n",
        "\n",
        "\n"
      ],
      "metadata": {
        "colab": {
          "base_uri": "https://localhost:8080/"
        },
        "id": "yHzZweNsQwE6",
        "outputId": "eb40572a-7343-48d2-b7b6-a9e95c1e397e"
      },
      "execution_count": 32,
      "outputs": [
        {
          "output_type": "stream",
          "name": "stdout",
          "text": [
            "                              Country  Total Suicide Rate  2021 Population\n",
            "0                             Lesotho                72.4          2159079\n",
            "1                              Guyana                40.3           790326\n",
            "2                            Eswatini                29.4          1172362\n",
            "3                         South Korea                28.6         51305186\n",
            "4                            Kiribati                28.3           121392\n",
            "..                                ...                 ...              ...\n",
            "174             Sao Tome And Principe                 1.5           223368\n",
            "175  Saint Vincent And the Grenadines                 1.0           111263\n",
            "176                           Grenada                 0.7           113021\n",
            "177                          Barbados                 0.6           287711\n",
            "178               Antigua And Barbuda                 0.4            98731\n",
            "\n",
            "[179 rows x 3 columns]\n",
            "     Rank      Country  Happiness 2021  Happiness 2020  2021 Population\n",
            "0       1      Finland           7.842           7.809          5548360\n",
            "1       2      Denmark           7.620           7.646          5813298\n",
            "2       3  Switzerland           7.571           7.560          8715494\n",
            "3       4      Iceland           7.554           7.504           343353\n",
            "4       5  Netherlands           7.464           7.449         17173099\n",
            "..    ...          ...             ...             ...              ...\n",
            "141   142      Lesotho           3.512           3.653          2159079\n",
            "142   143     Botswana           3.467           3.479          2397241\n",
            "143   144       Rwanda           3.415           3.312         13276513\n",
            "144   145     Zimbabwe           3.145           3.299         15092171\n",
            "145   146  Afghanistan           2.523           2.567         39835428\n",
            "\n",
            "[146 rows x 5 columns]\n",
            "                              Country  ...  2021 Population\n",
            "0                             Lesotho  ...          2159079\n",
            "1                              Guyana  ...           790326\n",
            "2                            Eswatini  ...          1172362\n",
            "3                         South Korea  ...         51305186\n",
            "4                            Kiribati  ...           121392\n",
            "..                                ...  ...              ...\n",
            "174             Sao Tome And Principe  ...           223368\n",
            "175  Saint Vincent And the Grenadines  ...           111263\n",
            "176                           Grenada  ...           113021\n",
            "177                          Barbados  ...           287711\n",
            "178               Antigua And Barbuda  ...            98731\n",
            "\n",
            "[179 rows x 5 columns]\n"
          ]
        }
      ]
    },
    {
      "cell_type": "code",
      "source": [
        "#Export cleaned files \n",
        "from google.colab import files\n",
        "hData.to_csv(\"HappinessDataSet.csv\")\n",
        "sData.to_csv(\"SuicideDataSet.csv\")\n",
        "files.download(\"HappinessDataSet.csv\")\n",
        "files.download(\"SuicideDataSet.csv\")"
      ],
      "metadata": {
        "colab": {
          "base_uri": "https://localhost:8080/",
          "height": 17
        },
        "id": "mVSct5IIf_dS",
        "outputId": "0c4b29a8-107c-4871-e3ec-388fc90d20f4"
      },
      "execution_count": 44,
      "outputs": [
        {
          "output_type": "display_data",
          "data": {
            "application/javascript": [
              "\n",
              "    async function download(id, filename, size) {\n",
              "      if (!google.colab.kernel.accessAllowed) {\n",
              "        return;\n",
              "      }\n",
              "      const div = document.createElement('div');\n",
              "      const label = document.createElement('label');\n",
              "      label.textContent = `Downloading \"${filename}\": `;\n",
              "      div.appendChild(label);\n",
              "      const progress = document.createElement('progress');\n",
              "      progress.max = size;\n",
              "      div.appendChild(progress);\n",
              "      document.body.appendChild(div);\n",
              "\n",
              "      const buffers = [];\n",
              "      let downloaded = 0;\n",
              "\n",
              "      const channel = await google.colab.kernel.comms.open(id);\n",
              "      // Send a message to notify the kernel that we're ready.\n",
              "      channel.send({})\n",
              "\n",
              "      for await (const message of channel.messages) {\n",
              "        // Send a message to notify the kernel that we're ready.\n",
              "        channel.send({})\n",
              "        if (message.buffers) {\n",
              "          for (const buffer of message.buffers) {\n",
              "            buffers.push(buffer);\n",
              "            downloaded += buffer.byteLength;\n",
              "            progress.value = downloaded;\n",
              "          }\n",
              "        }\n",
              "      }\n",
              "      const blob = new Blob(buffers, {type: 'application/binary'});\n",
              "      const a = document.createElement('a');\n",
              "      a.href = window.URL.createObjectURL(blob);\n",
              "      a.download = filename;\n",
              "      div.appendChild(a);\n",
              "      a.click();\n",
              "      div.remove();\n",
              "    }\n",
              "  "
            ],
            "text/plain": [
              "<IPython.core.display.Javascript object>"
            ]
          },
          "metadata": {}
        },
        {
          "output_type": "display_data",
          "data": {
            "application/javascript": [
              "download(\"download_af04f012-d90f-4c5b-8158-08a5ab9b3532\", \"HappinessDataSet.csv\", 6083)"
            ],
            "text/plain": [
              "<IPython.core.display.Javascript object>"
            ]
          },
          "metadata": {}
        },
        {
          "output_type": "display_data",
          "data": {
            "application/javascript": [
              "\n",
              "    async function download(id, filename, size) {\n",
              "      if (!google.colab.kernel.accessAllowed) {\n",
              "        return;\n",
              "      }\n",
              "      const div = document.createElement('div');\n",
              "      const label = document.createElement('label');\n",
              "      label.textContent = `Downloading \"${filename}\": `;\n",
              "      div.appendChild(label);\n",
              "      const progress = document.createElement('progress');\n",
              "      progress.max = size;\n",
              "      div.appendChild(progress);\n",
              "      document.body.appendChild(div);\n",
              "\n",
              "      const buffers = [];\n",
              "      let downloaded = 0;\n",
              "\n",
              "      const channel = await google.colab.kernel.comms.open(id);\n",
              "      // Send a message to notify the kernel that we're ready.\n",
              "      channel.send({})\n",
              "\n",
              "      for await (const message of channel.messages) {\n",
              "        // Send a message to notify the kernel that we're ready.\n",
              "        channel.send({})\n",
              "        if (message.buffers) {\n",
              "          for (const buffer of message.buffers) {\n",
              "            buffers.push(buffer);\n",
              "            downloaded += buffer.byteLength;\n",
              "            progress.value = downloaded;\n",
              "          }\n",
              "        }\n",
              "      }\n",
              "      const blob = new Blob(buffers, {type: 'application/binary'});\n",
              "      const a = document.createElement('a');\n",
              "      a.href = window.URL.createObjectURL(blob);\n",
              "      a.download = filename;\n",
              "      div.appendChild(a);\n",
              "      a.click();\n",
              "      div.remove();\n",
              "    }\n",
              "  "
            ],
            "text/plain": [
              "<IPython.core.display.Javascript object>"
            ]
          },
          "metadata": {}
        },
        {
          "output_type": "display_data",
          "data": {
            "application/javascript": [
              "download(\"download_4c6b6557-b5bf-4595-a92e-c673b6560fb3\", \"SuicideDataSet.csv\", 6157)"
            ],
            "text/plain": [
              "<IPython.core.display.Javascript object>"
            ]
          },
          "metadata": {}
        }
      ]
    },
    {
      "cell_type": "markdown",
      "source": [
        "# Data Exploration \n"
      ],
      "metadata": {
        "id": "5J_xIR-lbyqG"
      }
    },
    {
      "cell_type": "code",
      "source": [
        "sns.scatterplot(x=\"Country\", y=\"Happiness 2021\", data=hData)\n",
        "#recommending using tableau for further analysis"
      ],
      "metadata": {
        "colab": {
          "base_uri": "https://localhost:8080/",
          "height": 296
        },
        "id": "8Fx8fHTkb2Y6",
        "outputId": "d7232c8a-b582-45c6-c2fd-ff6ebe332580"
      },
      "execution_count": 41,
      "outputs": [
        {
          "output_type": "execute_result",
          "data": {
            "text/plain": [
              "<matplotlib.axes._subplots.AxesSubplot at 0x7ff3dc797f90>"
            ]
          },
          "metadata": {},
          "execution_count": 41
        },
        {
          "output_type": "display_data",
          "data": {
            "image/png": "[encoded data removed]",
            "text/plain": [
              "<Figure size 432x288 with 1 Axes>"
            ]
          },
          "metadata": {
            "needs_background": "light"
          }
        }
      ]
    }
  ]
}